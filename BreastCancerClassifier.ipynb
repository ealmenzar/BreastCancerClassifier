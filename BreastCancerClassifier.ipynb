{
 "cells": [
  {
   "cell_type": "markdown",
   "metadata": {},
   "source": [
    "# Background\n",
    "\n",
    "Breast cancer is an uncontrolled growth of cells in the breast. It is the 2nd most common cancer in women and can even also on condition affect man as well. Breast is also the 2nd leading cause death cancer in women after lung cancer. Fine needle aspiration is one commonly used ICT diagnosis methods of breast cancer. By insert the needle in the breast to get the photo of the breast cell. From the photo of begline and malignant cell we can see they are differient in radius, area, roughness, density etc. so we believe those features can classify the cells into benign or malignant by those features."
   ]
  },
  {
   "cell_type": "markdown",
   "metadata": {},
   "source": [
    "# Hypothesis\n",
    "\n",
    "We hypothesize that Machine Learning algorithms can predict the nature of a breast tumour (benign or malignant) in order to provide health sector with assistance to breast tumour classification.\n",
    "\n",
    "Same methodology could be applied to other similar kind of cancer detection."
   ]
  },
  {
   "cell_type": "markdown",
   "metadata": {},
   "source": [
    "# Dataset\n",
    "\n",
    "We collect the raw dataset on Kaggle https://www.kaggle.com/uciml/breast-cancer-wisconsin-data consisting in data samples about breast cells. For each cell, we have 10 main features: \n",
    "- radius \n",
    "- texture \n",
    "- perimeter \n",
    "- area \n",
    "- smoothness \n",
    "- compactness \n",
    "- concavity (severity of concave portions of the contour)\n",
    "- concave points (number of concave portions of the contour)\n",
    "- symmetry\n",
    "- fractal dimension\n",
    "\n",
    "For each feature we have three different values:\n",
    "- its mean\n",
    "- its standard error\n",
    "- its _worst value_ (the mean of the three largest values)\n",
    "\n",
    "resulting in total of 30 features for each cell sample. "
   ]
  },
  {
   "cell_type": "markdown",
   "metadata": {},
   "source": [
    "# Methodology summary\n",
    "## Are we dealing with classification or regression?\n",
    "This is a binary classification problem since the prediction task is to classify the observations in a set of finite labels - benign or malignant.\n",
    "\n",
    "## Data exploration\n",
    "We show some histograms to see the distribution of malignant cells under each feature, mainly to check if it's normal distribution and also a way to check if we need to delete any features or not. \n",
    "\n",
    "## Data formatting and data preparation\n",
    "Then we do normalization of our dataset to make columns similar intrinsic influence on analytical model. Here are three ways of normalization:\n",
    "- simple feature scaling\n",
    "- min-max scaling\n",
    "- Z-score scaling. \n",
    "\n",
    "We choose the second option: min-max scaling.\n",
    "\n",
    "We saperate our dataset 80% for training data and 20% for testing data, and within training data we set 5 groups for cross-validation.\n",
    "\n",
    "## Evaluating whether the dataset is linearly separable\n",
    "We evaluate whether our data is linearly separable or not. The concept of linear separability applies to binary datasets. Since our dataset is a binary dataset (diagnosis: M = malignant, B = benign) it makes sense to consider if our data is linearly separable or not.\n",
    "\n",
    "## Testing different ML algorithms\n",
    "\n",
    "We run different machine learning algorithms:\n",
    "\n",
    "- SVM classifier (with linear kernel, polynomial kernels and RBF kernel)\n",
    "- MLP classifier \n",
    "- k-Nearest Neighbour\n",
    "- Decision Tree\n",
    "- Logistic Regression\n",
    "\n",
    "## Algorithms accuracy evaluation \n",
    "The results are reported as the accuracy of each classifier, and we calculate this accuracy using different evaluation metrics: \n",
    "\n",
    "- Jaccard index\n",
    "- F1-score"
   ]
  },
  {
   "cell_type": "markdown",
   "metadata": {},
   "source": [
    "# Extended analysis"
   ]
  },
  {
   "cell_type": "markdown",
   "metadata": {
    "colab_type": "text",
    "id": "mdC6pZ7iLwne"
   },
   "source": [
    "## Data exploration"
   ]
  },
  {
   "cell_type": "code",
   "execution_count": 44,
   "metadata": {
    "colab": {
     "base_uri": "https://localhost:8080/",
     "height": 580
    },
    "colab_type": "code",
    "executionInfo": {
     "elapsed": 1301,
     "status": "ok",
     "timestamp": 1583626858453,
     "user": {
      "displayName": "javi morant",
      "photoUrl": "",
      "userId": "18111571290967594212"
     },
     "user_tz": -60
    },
    "id": "94TvJi5fLwnh",
    "outputId": "108c6311-591f-4b75-b889-6f37db672640"
   },
   "outputs": [
    {
     "name": "stdout",
     "output_type": "stream",
     "text": [
      "HEADER\n",
      "0 diagnosis\n",
      "1 radius_mean\n",
      "2 texture_mean\n",
      "3 perimeter_mean\n",
      "4 area_mean\n",
      "5 smoothness_mean\n",
      "6 compactness_mean\n",
      "7 concavity_mean\n",
      "8 concave points_mean\n",
      "9 symmetry_mean\n",
      "10 fractal_dimension_mean\n",
      "11 radius_se\n",
      "12 texture_se\n",
      "13 perimeter_se\n",
      "14 area_se\n",
      "15 smoothness_se\n",
      "16 compactness_se\n",
      "17 concavity_se\n",
      "18 concave points_se\n",
      "19 symmetry_se\n",
      "20 fractal_dimension_se\n",
      "21 radius_worst\n",
      "22 texture_worst\n",
      "23 perimeter_worst\n",
      "24 area_worst\n",
      "25 smoothness_worst\n",
      "26 compactness_worst\n",
      "27 concavity_worst\n",
      "28 concave points_worst\n",
      "29 symmetry_worst\n",
      "30 fractal_dimension_worst\n"
     ]
    },
    {
     "data": {
      "text/plain": [
       "0    357\n",
       "1    212\n",
       "Name: diagnosis, dtype: int64"
      ]
     },
     "execution_count": 44,
     "metadata": {},
     "output_type": "execute_result"
    }
   ],
   "source": [
    "import itertools\n",
    "import numpy as np\n",
    "import matplotlib.pyplot as plt\n",
    "from matplotlib.ticker import NullFormatter\n",
    "import pandas as pd\n",
    "import numpy as np\n",
    "import matplotlib.ticker as ticker\n",
    "import csv\n",
    "from sklearn import preprocessing\n",
    "df = pd.read_csv('data.csv')\n",
    "df.head()\n",
    "\n",
    "with open('data.csv', newline='') as csvfile:\n",
    "    breast_data = list(csv.reader(csvfile))\n",
    "\n",
    "#Convert Categorical features to numerical values\n",
    "'''for i in breast_data[1:]:\n",
    "    if i[1] == 'M': i[1] = 1\n",
    "    else:\n",
    "       i[1] = 0'''\n",
    "#df['diagnosis'].replace(to_replace=['B'], value=[0],inplace=True) \n",
    "#df['diagnosis'].replace(to_replace=['M'], value=[1],inplace=True) \n",
    "df.head()\n",
    "\n",
    "br_head = np.array(breast_data[0])\n",
    "br_data = np.array(breast_data[1:])\n",
    "\n",
    "print('HEADER')\n",
    "for i,n in enumerate(br_head): print(i,n)\n",
    "\n",
    "df['diagnosis'].value_counts()"
   ]
  },
  {
   "cell_type": "markdown",
   "metadata": {
    "colab_type": "text",
    "id": "-vxrm8U1Lwnp"
   },
   "source": [
    "## Data formatting and data preparation"
   ]
  },
  {
   "cell_type": "code",
   "execution_count": 45,
   "metadata": {
    "colab": {},
    "colab_type": "code",
    "id": "iYTjzoUDLwnr"
   },
   "outputs": [],
   "source": [
    "y = br_data[:,0]\n",
    "X = br_data[:,1:]\n",
    "y = y.astype(np.float)  # convert array of strings to array of floats\n",
    "X = X.astype(np.float)  # convert array of strings to array of floats\n",
    "\n",
    "# Normalize data, some methods are sensitive to high scale differences between features\n",
    "from sklearn.preprocessing import MinMaxScaler\n",
    "scaler = MinMaxScaler(feature_range=(0,1))\n",
    "X = scaler.fit_transform(X)"
   ]
  },
  {
   "cell_type": "markdown",
   "metadata": {},
   "source": [
    "## Test for variable significance\n",
    "\n",
    "We are going to use the spearman test, binary variable and numerical, to check whether the dependent variable is correlated to each of the features. This analysis will give as an idea of how much can contribute each feature to explain the diagnosis."
   ]
  },
  {
   "cell_type": "code",
   "execution_count": 46,
   "metadata": {},
   "outputs": [
    {
     "data": {
      "image/png": "[encoded data removed]",
      "text/plain": [
       "<Figure size 2160x2160 with 30 Axes>"
      ]
     },
     "metadata": {},
     "output_type": "display_data"
    }
   ],
   "source": [
    "import numpy as np\n",
    "import scipy\n",
    "from scipy.stats import spearmanr\n",
    "import matplotlib.pyplot as plt\n",
    "import matplotlib.markers as mark\n",
    "import matplotlib.patches as mpatches\n",
    "\n",
    "\n",
    "prec = 3\n",
    "sig_lev=0.05\n",
    "pattern = '{0:.{1}f}'\n",
    "plt.style.use('seaborn-white')\n",
    "plt.figure(figsize=(30,30))\n",
    "size=y.size \n",
    "red_patch = mpatches.Patch(color='red', label='Malignant')\n",
    "green_patch = mpatches.Patch(color='green', label='Benign')\n",
    "for i in range(0,30):\n",
    "  current_feature=X[:,i]\n",
    "  malignant=[]\n",
    "  benignant=[]\n",
    "  for f in range(0,size):\n",
    "    if y[f]>0:\n",
    "      malignant.append(current_feature[f])\n",
    "    else:\n",
    "      benignant.append(current_feature[f])\n",
    "  corr, p_value = spearmanr(current_feature, y)\n",
    "  c = pattern.format(corr, prec)\n",
    "  p = pattern.format(p_value, prec)\n",
    "  significant = p_value < sig_lev\n",
    "  subplot = plt.subplot(10,3, i+1)\n",
    "  subplot.scatter(malignant,[0]*len(malignant), marker=mark.TICKUP,c=(\"red\"),alpha=0.15)\n",
    "  subplot.scatter(benignant,[0]*len(benignant), marker=mark.TICKUP,c=(\"green\"),alpha=0.05)\n",
    "  subplot.set_xlabel(br_head[i+1] + ', p-value:'+p+ ', corr:'+c)\n",
    "  \n",
    "  subplot.legend(handles=[red_patch, green_patch])\n",
    "  if(significant):\n",
    "    subplot.set_frame_on(False)"
   ]
  },
  {
   "cell_type": "markdown",
   "metadata": {},
   "source": [
    "The graphics above show the combination of malignant and benignant results for each measure. The more separated the colors the more correlated.\n",
    "The three graphics with less relevant features are framed.\n",
    "As a result we can conclude that almost all the features independently can explain at some extent the dependent variable, diagnose, except 3 features:\n",
    "\n",
    "*   fractal_dimension_mean\n",
    "*   texture_se\n",
    "*   smoothness_se"
   ]
  },
  {
   "cell_type": "markdown",
   "metadata": {
    "colab_type": "text",
    "id": "9P87DfZTLwnx"
   },
   "source": [
    "## Evaluating if the dataset is linearly separable"
   ]
  },
  {
   "cell_type": "markdown",
   "metadata": {
    "colab_type": "text",
    "id": "i0frac8hLwnz"
   },
   "source": [
    "### Should we use SVM to check linear separability?\n",
    "Using SVMs is a sub-optimal solution to verifying linear separability for two reasons:\n",
    "\n",
    "1. SVMs are soft-margin classifiers. That means a linear kernel SVM might settle for a separating plane which is not separating perfectly even though it might be actually possible. If you then check the error rate it is going to be not 0 and you will falsely conclude that the two sets are not linearly separable. **This issue can be attenuated by choosing a very high cost coefficient C - although this comes itself at a very high computational cost**.\n",
    "\n",
    "2. SVMs are maximum-margin classifiers. That means the algorithm will try to find a separating plane that is separating the two classes while trying to stay away from both as far as possible. Again this is a feature increasing the computational effort unnecessarily as it calculates something that is not relevant to answering the question of linear separability.\n",
    "\n",
    "Despite mentioned before, we will try:\n",
    "* Instantiate a SVM with a big C hyperparameter.\n",
    "* Train the model with all our data.\n",
    "* Classify the dataset with our newly trained SVM.\n",
    "* If we get 100% accuracy on classification, we will conclude that our data is linearly separable (if not, we __cannot conclude__ that our data is not linearly separable).\n",
    "\n",
    "**Important note**: *To check if data is linearly separable we are not using cross validation. We just fit our model to entire data and check the error, there is no need for train/validation/test splits: __train on everything - test on everything__. In fact doing cross validation makes it wrong, since we could get 100% without linear separability (as long as we were lucky enough to split data in such a way that each testing subset is linearly separable).*"
   ]
  },
  {
   "cell_type": "code",
   "execution_count": 47,
   "metadata": {
    "colab": {
     "base_uri": "https://localhost:8080/",
     "height": 87
    },
    "colab_type": "code",
    "executionInfo": {
     "elapsed": 606,
     "status": "ok",
     "timestamp": 1583627254180,
     "user": {
      "displayName": "javi morant",
      "photoUrl": "",
      "userId": "18111571290967594212"
     },
     "user_tz": -60
    },
    "id": "sdyA9pTOLwn1",
    "outputId": "2419a2af-3796-4ab3-8041-ed89b78b3f93"
   },
   "outputs": [
    {
     "data": {
      "text/plain": [
       "SVC(C=100000.0, break_ties=False, cache_size=200, class_weight=None, coef0=0.0,\n",
       "    decision_function_shape='ovr', degree=3, gamma='scale', kernel='linear',\n",
       "    max_iter=-1, probability=False, random_state=None, shrinking=True,\n",
       "    tol=0.001, verbose=False)"
      ]
     },
     "execution_count": 47,
     "metadata": {},
     "output_type": "execute_result"
    }
   ],
   "source": [
    "from sklearn import svm\n",
    "\n",
    "clf = svm.SVC(C=100000.0, kernel='linear')\n",
    "clf.fit(X, y)"
   ]
  },
  {
   "cell_type": "code",
   "execution_count": 48,
   "metadata": {
    "colab": {},
    "colab_type": "code",
    "id": "Sq_kmMpeLwn8"
   },
   "outputs": [],
   "source": [
    "p = clf.predict(X)"
   ]
  },
  {
   "cell_type": "code",
   "execution_count": 49,
   "metadata": {
    "colab": {
     "base_uri": "https://localhost:8080/",
     "height": 34
    },
    "colab_type": "code",
    "executionInfo": {
     "elapsed": 640,
     "status": "ok",
     "timestamp": 1583627282855,
     "user": {
      "displayName": "javi morant",
      "photoUrl": "",
      "userId": "18111571290967594212"
     },
     "user_tz": -60
    },
    "id": "44d9aBYFLwoB",
    "outputId": "c4770c6e-8f31-49dc-df95-8fb38044bf83"
   },
   "outputs": [
    {
     "data": {
      "text/plain": [
       "False"
      ]
     },
     "execution_count": 49,
     "metadata": {},
     "output_type": "execute_result"
    }
   ],
   "source": [
    "(p == y).all()"
   ]
  },
  {
   "cell_type": "markdown",
   "metadata": {
    "colab_type": "text",
    "id": "2Hd08zXNLwoG"
   },
   "source": [
    "We have obtained an error rate not equal to 0, but we cannot conclude that our data is not linearly separable (see point 1 above). So now we try the same as before, but with __Logisic Regression__:\n",
    "* Instantiate a Logistic Regression with a big C hyperparameter.\n",
    "* Train the model with all our data.\n",
    "* Classify the dataset with our newly trained Logistic Regression.\n",
    "* If we get 100% accuracy on classification, our data is linearly separable. If not, we couldn't conclude with a 100% of accuracy that our data is not linearly separable, but we could settle for that since we would have obtained enough signs."
   ]
  },
  {
   "cell_type": "code",
   "execution_count": 50,
   "metadata": {
    "colab": {
     "base_uri": "https://localhost:8080/",
     "height": 105
    },
    "colab_type": "code",
    "executionInfo": {
     "elapsed": 1251,
     "status": "ok",
     "timestamp": 1583626858463,
     "user": {
      "displayName": "javi morant",
      "photoUrl": "",
      "userId": "18111571290967594212"
     },
     "user_tz": -60
    },
    "id": "dFyzA1y5LwoI",
    "outputId": "180ba693-37e4-4b8c-c968-646d66fef3c5"
   },
   "outputs": [
    {
     "data": {
      "text/plain": [
       "LogisticRegression(C=100000.0, class_weight=None, dual=False,\n",
       "                   fit_intercept=True, intercept_scaling=1, l1_ratio=None,\n",
       "                   max_iter=100, multi_class='auto', n_jobs=None, penalty='l2',\n",
       "                   random_state=None, solver='liblinear', tol=0.0001, verbose=0,\n",
       "                   warm_start=False)"
      ]
     },
     "execution_count": 50,
     "metadata": {},
     "output_type": "execute_result"
    }
   ],
   "source": [
    "from sklearn import linear_model\n",
    "\n",
    "clf = linear_model.LogisticRegression(C=100000.0, solver='liblinear')\n",
    "clf.fit(X, y)"
   ]
  },
  {
   "cell_type": "code",
   "execution_count": 51,
   "metadata": {
    "colab": {},
    "colab_type": "code",
    "id": "VpumFtm3LwoL"
   },
   "outputs": [],
   "source": [
    "p = clf.predict(X)"
   ]
  },
  {
   "cell_type": "code",
   "execution_count": 52,
   "metadata": {
    "colab": {
     "base_uri": "https://localhost:8080/",
     "height": 34
    },
    "colab_type": "code",
    "executionInfo": {
     "elapsed": 1231,
     "status": "ok",
     "timestamp": 1583626858466,
     "user": {
      "displayName": "javi morant",
      "photoUrl": "",
      "userId": "18111571290967594212"
     },
     "user_tz": -60
    },
    "id": "ouxpZJSPLwoP",
    "outputId": "1aa10a9e-3326-43e9-e849-44ad44d9c7e5"
   },
   "outputs": [
    {
     "data": {
      "text/plain": [
       "False"
      ]
     },
     "execution_count": 52,
     "metadata": {},
     "output_type": "execute_result"
    }
   ],
   "source": [
    "(p == y).all()"
   ]
  },
  {
   "cell_type": "markdown",
   "metadata": {
    "colab_type": "text",
    "id": "9C_IGONpLwoS"
   },
   "source": [
    "Effectively, we haven't got 100% of accuracy with Logistic Regression. In any case, from now on, given the previous clues, we will consider that our data is not linearly separable."
   ]
  },
  {
   "cell_type": "markdown",
   "metadata": {
    "colab_type": "text",
    "id": "HvF23k44LwoT"
   },
   "source": [
    "## Support Vector Machine"
   ]
  },
  {
   "cell_type": "markdown",
   "metadata": {
    "colab_type": "text",
    "id": "iwn5KFM3LwoU"
   },
   "source": [
    "Main advantage regarding our dataset:\n",
    "- It is effective in high dimensional spaces\n",
    "\n",
    "Main disadvantage:\n",
    "- It does not directly provide probability estimates, these are calculated using an expensive five-fold cross-validation"
   ]
  },
  {
   "cell_type": "code",
   "execution_count": 53,
   "metadata": {
    "colab": {
     "base_uri": "https://localhost:8080/",
     "height": 34
    },
    "colab_type": "code",
    "executionInfo": {
     "elapsed": 1217,
     "status": "ok",
     "timestamp": 1583626858467,
     "user": {
      "displayName": "javi morant",
      "photoUrl": "",
      "userId": "18111571290967594212"
     },
     "user_tz": -60
    },
    "id": "iVHfaUyULwoV",
    "outputId": "e47a0247-ba34-40bd-ebb0-b6c7c5668224"
   },
   "outputs": [
    {
     "data": {
      "text/plain": [
       "((569, 30), (569,))"
      ]
     },
     "execution_count": 53,
     "metadata": {},
     "output_type": "execute_result"
    }
   ],
   "source": [
    "import numpy as np\n",
    "from sklearn import svm\n",
    "from sklearn.model_selection import cross_val_score\n",
    "from sklearn.model_selection import train_test_split\n",
    "\n",
    "X.shape, y.shape"
   ]
  },
  {
   "cell_type": "markdown",
   "metadata": {
    "colab_type": "text",
    "id": "GtepsSQ4LwoX"
   },
   "source": [
    "We sample a training set while holding out 40% of the data for testing (evaluating) our classifier:"
   ]
  },
  {
   "cell_type": "code",
   "execution_count": 54,
   "metadata": {
    "colab": {},
    "colab_type": "code",
    "id": "cMS2UVU0LwoY"
   },
   "outputs": [],
   "source": [
    "X_train, X_test, y_train, y_test = train_test_split(X, y, test_size=0.4, random_state=0)"
   ]
  },
  {
   "cell_type": "code",
   "execution_count": 55,
   "metadata": {
    "colab": {
     "base_uri": "https://localhost:8080/",
     "height": 34
    },
    "colab_type": "code",
    "executionInfo": {
     "elapsed": 1195,
     "status": "ok",
     "timestamp": 1583626858470,
     "user": {
      "displayName": "javi morant",
      "photoUrl": "",
      "userId": "18111571290967594212"
     },
     "user_tz": -60
    },
    "id": "sLGLHpo1Lwob",
    "outputId": "affa96a2-e53c-4ebd-ac90-292647643230"
   },
   "outputs": [
    {
     "data": {
      "text/plain": [
       "((341, 30), (341,), (228, 30), (228,))"
      ]
     },
     "execution_count": 55,
     "metadata": {},
     "output_type": "execute_result"
    }
   ],
   "source": [
    "X_train.shape, y_train.shape, X_test.shape, y_test.shape"
   ]
  },
  {
   "cell_type": "markdown",
   "metadata": {
    "colab_type": "text",
    "id": "aim1Zn2HLwof"
   },
   "source": [
    "### SVM with linear kernel"
   ]
  },
  {
   "cell_type": "code",
   "execution_count": 56,
   "metadata": {
    "colab": {
     "base_uri": "https://localhost:8080/",
     "height": 70
    },
    "colab_type": "code",
    "executionInfo": {
     "elapsed": 1535,
     "status": "ok",
     "timestamp": 1583626858839,
     "user": {
      "displayName": "javi morant",
      "photoUrl": "",
      "userId": "18111571290967594212"
     },
     "user_tz": -60
    },
    "id": "WZovFwOfLwok",
    "outputId": "2e4a1771-f325-4e0a-df79-616eaf593fe1"
   },
   "outputs": [
    {
     "name": "stdout",
     "output_type": "stream",
     "text": [
      "Score for each run of the cross validation:  [0.97101449 0.94117647 0.95588235 0.97058824 1.        ]\n",
      ">> Accuracy: 0.97 (+/- 0.04)\n",
      "Mean accuracy on the test data and labels:  0.9649122807017544\n"
     ]
    }
   ],
   "source": [
    "# We fit the model BEFORE doing cross-validation.\n",
    "# We do cross-validation over the training set. Does it make sense?\n",
    "\n",
    "clf = svm.SVC(kernel='linear').fit(X_train, y_train)\n",
    "scores = cross_val_score(clf, X_train, y_train, cv=5)\n",
    "print(\"Score for each run of the cross validation: \", scores)\n",
    "# The mean score and the 95% confidence interval of the score estimate are hence given by:\n",
    "print(\">> Accuracy: %0.2f (+/- %0.2f)\" % (scores.mean(), scores.std() * 2))\n",
    "score = clf.score(X_test, y_test)\n",
    "print(\"Mean accuracy on the test data and labels: \", score)"
   ]
  },
  {
   "cell_type": "code",
   "execution_count": 57,
   "metadata": {},
   "outputs": [],
   "source": [
    "yhat = clf.predict(X_test)"
   ]
  },
  {
   "cell_type": "code",
   "execution_count": 58,
   "metadata": {},
   "outputs": [
    {
     "name": "stdout",
     "output_type": "stream",
     "text": [
      "Jaccard index: 0.90\n",
      "F1-score: 0.96\n"
     ]
    }
   ],
   "source": [
    "from sklearn.metrics import jaccard_score\n",
    "from sklearn.metrics import f1_score\n",
    "print(\"Jaccard index: %.2f\" % jaccard_score(y_test, yhat))\n",
    "print(\"F1-score: %.2f\" % f1_score(y_test, yhat, average='weighted') )"
   ]
  },
  {
   "cell_type": "markdown",
   "metadata": {
    "colab_type": "text",
    "id": "1NI4AbtFLwop"
   },
   "source": [
    "### SVM with polynomial kernel, degree 2, 3, 4 and 5"
   ]
  },
  {
   "cell_type": "code",
   "execution_count": 59,
   "metadata": {},
   "outputs": [
    {
     "name": "stdout",
     "output_type": "stream",
     "text": [
      "\n",
      "Polynomial kernel, degree =  2\n",
      "Score for each run of the cross validation:  [0.97101449 0.94117647 0.98529412 1.         1.        ]\n",
      ">> Accuracy: 0.98 (+/- 0.04)\n",
      "Mean accuracy on the test data and labels:  0.9736842105263158\n",
      "Jaccard index: 0.93\n",
      "F1-score: 0.97\n",
      "\n",
      "Polynomial kernel, degree =  3\n",
      "Score for each run of the cross validation:  [0.97101449 0.94117647 0.98529412 1.         1.        ]\n",
      ">> Accuracy: 0.98 (+/- 0.04)\n",
      "Mean accuracy on the test data and labels:  0.9736842105263158\n",
      "Jaccard index: 0.93\n",
      "F1-score: 0.97\n",
      "\n",
      "Polynomial kernel, degree =  4\n",
      "Score for each run of the cross validation:  [0.97101449 0.92647059 0.97058824 0.98529412 1.        ]\n",
      ">> Accuracy: 0.97 (+/- 0.05)\n",
      "Mean accuracy on the test data and labels:  0.956140350877193\n",
      "Jaccard index: 0.88\n",
      "F1-score: 0.96\n",
      "\n",
      "Polynomial kernel, degree =  5\n",
      "Score for each run of the cross validation:  [0.94202899 0.92647059 0.94117647 0.97058824 0.95588235]\n",
      ">> Accuracy: 0.95 (+/- 0.03)\n",
      "Mean accuracy on the test data and labels:  0.956140350877193\n",
      "Jaccard index: 0.89\n",
      "F1-score: 0.96\n"
     ]
    }
   ],
   "source": [
    "for i in [2, 3, 4, 5]:\n",
    "  clf = svm.SVC(kernel='poly',degree=i).fit(X_train, y_train)\n",
    "  yhat = clf.predict(X_test)\n",
    "\n",
    "  print(\"\\nPolynomial kernel, degree = \", i)\n",
    "  scores = cross_val_score(clf, X_train, y_train, cv=5)\n",
    "  print(\"Score for each run of the cross validation: \", scores)\n",
    "  # The mean score and the 95% confidence interval of the score estimate are hence given by:\n",
    "  print(\">> Accuracy: %0.2f (+/- %0.2f)\" % (scores.mean(), scores.std() * 2))\n",
    "  score = clf.score(X_test, y_test)\n",
    "  print(\"Mean accuracy on the test data and labels: \", score)\n",
    "  print(\"Jaccard index: %.2f\" % jaccard_score(y_test, yhat))\n",
    "  print(\"F1-score: %.2f\" % f1_score(y_test, yhat, average='weighted') )"
   ]
  },
  {
   "cell_type": "markdown",
   "metadata": {
    "colab_type": "text",
    "id": "gY0w2P73Lwo1"
   },
   "source": [
    "### SVM with RBF kernel"
   ]
  },
  {
   "cell_type": "code",
   "execution_count": 60,
   "metadata": {
    "colab": {
     "base_uri": "https://localhost:8080/",
     "height": 70
    },
    "colab_type": "code",
    "executionInfo": {
     "elapsed": 1450,
     "status": "ok",
     "timestamp": 1583626858849,
     "user": {
      "displayName": "javi morant",
      "photoUrl": "",
      "userId": "18111571290967594212"
     },
     "user_tz": -60
    },
    "id": "EE3VYSHxLwo2",
    "outputId": "dc271bd3-2dd5-4aae-fd3a-49e7d545e003"
   },
   "outputs": [
    {
     "name": "stdout",
     "output_type": "stream",
     "text": [
      "Score for each run of the cross validation:  [0.97101449 0.94117647 0.95588235 0.98529412 1.        ]\n",
      ">> Accuracy: 0.97 (+/- 0.04)\n",
      "Mean accuracy on the test data and labels:  0.9736842105263158\n"
     ]
    }
   ],
   "source": [
    "clf = svm.SVC(kernel='rbf').fit(X_train, y_train)\n",
    "scores = cross_val_score(clf, X_train, y_train, cv=5)\n",
    "print(\"Score for each run of the cross validation: \", scores)\n",
    "# The mean score and the 95% confidence interval of the score estimate are hence given by:\n",
    "print(\">> Accuracy: %0.2f (+/- %0.2f)\" % (scores.mean(), scores.std() * 2))\n",
    "score = clf.score(X_test, y_test)\n",
    "print(\"Mean accuracy on the test data and labels: \", score)"
   ]
  },
  {
   "cell_type": "code",
   "execution_count": 61,
   "metadata": {},
   "outputs": [],
   "source": [
    "yhat = clf.predict(X_test)"
   ]
  },
  {
   "cell_type": "code",
   "execution_count": 62,
   "metadata": {},
   "outputs": [
    {
     "name": "stdout",
     "output_type": "stream",
     "text": [
      "Jaccard index: 0.93\n",
      "F1-score: 0.97\n"
     ]
    }
   ],
   "source": [
    "print(\"Jaccard index: %.2f\" % jaccard_score(y_test, yhat))\n",
    "print(\"F1-score: %.2f\" % f1_score(y_test, yhat, average='weighted') )"
   ]
  },
  {
   "cell_type": "markdown",
   "metadata": {
    "colab_type": "text",
    "id": "ESlrHlmTLwo5"
   },
   "source": [
    "### SVM with sigmoid kernel"
   ]
  },
  {
   "cell_type": "code",
   "execution_count": 63,
   "metadata": {
    "colab": {
     "base_uri": "https://localhost:8080/",
     "height": 70
    },
    "colab_type": "code",
    "executionInfo": {
     "elapsed": 1785,
     "status": "ok",
     "timestamp": 1583626859224,
     "user": {
      "displayName": "javi morant",
      "photoUrl": "",
      "userId": "18111571290967594212"
     },
     "user_tz": -60
    },
    "id": "rflEHXHULwo6",
    "outputId": "8470147f-894c-4cdd-b4fd-61b33f773480"
   },
   "outputs": [
    {
     "name": "stdout",
     "output_type": "stream",
     "text": [
      "Score for each run of the cross validation:  [0.24637681 0.39705882 0.32352941 0.27941176 0.36764706]\n",
      ">> Accuracy: 0.32 (+/- 0.11)\n",
      "Mean accuracy on the test data and labels:  0.2894736842105263\n"
     ]
    }
   ],
   "source": [
    "clf = svm.SVC(kernel='sigmoid', C=1).fit(X_train, y_train)\n",
    "scores = cross_val_score(clf, X_train, y_train, cv=5)\n",
    "print(\"Score for each run of the cross validation: \", scores)\n",
    "# The mean score and the 95% confidence interval of the score estimate are hence given by:\n",
    "print(\">> Accuracy: %0.2f (+/- %0.2f)\" % (scores.mean(), scores.std() * 2))\n",
    "score = clf.score(X_test, y_test)\n",
    "print(\"Mean accuracy on the test data and labels: \", score)"
   ]
  },
  {
   "cell_type": "code",
   "execution_count": 64,
   "metadata": {},
   "outputs": [
    {
     "name": "stdout",
     "output_type": "stream",
     "text": [
      "Jaccard index: 0.01\n",
      "F1-score: 0.29\n"
     ]
    }
   ],
   "source": [
    "yhat = clf.predict(X_test)\n",
    "print(\"Jaccard index: %.2f\" % jaccard_score(y_test, yhat))\n",
    "print(\"F1-score: %.2f\" % f1_score(y_test, yhat, average='weighted') )"
   ]
  },
  {
   "cell_type": "markdown",
   "metadata": {
    "colab_type": "text",
    "id": "PlhzxEebNmiB"
   },
   "source": [
    "## MLP\n",
    "Multilayer perceptron is a neural network consisting in a minimum of three layers, input layer, output layer and a minimum of one hidden layer.\n",
    "In MLPs some neurons use a nonlinear activation function that was developed to model the frequency of action potentials, or firing, of biological neurons.\n",
    "This methop when using a non linear activation funtion between nodes provides classificatio for non linear separated data.\n"
   ]
  },
  {
   "cell_type": "markdown",
   "metadata": {},
   "source": [
    "### MLP with adam solver"
   ]
  },
  {
   "cell_type": "code",
   "execution_count": 65,
   "metadata": {
    "colab": {
     "base_uri": "https://localhost:8080/",
     "height": 34
    },
    "colab_type": "code",
    "executionInfo": {
     "elapsed": 4133,
     "status": "ok",
     "timestamp": 1583626861596,
     "user": {
      "displayName": "javi morant",
      "photoUrl": "",
      "userId": "18111571290967594212"
     },
     "user_tz": -60
    },
    "id": "ONlnbk2CLwo8",
    "outputId": "6c156fd7-9481-405d-a3d6-e34e5e09b200"
   },
   "outputs": [
    {
     "name": "stdout",
     "output_type": "stream",
     "text": [
      "Accuracy of MLPClassifier :  0.9736842105263158\n"
     ]
    }
   ],
   "source": [
    "import numpy as np\n",
    "from sklearn import svm\n",
    "from sklearn.model_selection import cross_val_score\n",
    "from sklearn.model_selection import train_test_split\n",
    "from sklearn.neural_network import MLPClassifier\n",
    "\n",
    "classifier = MLPClassifier(hidden_layer_sizes=(100,),\n",
    "                           max_iter=10000,\n",
    "                           activation = 'tanh',\n",
    "                           solver='adam',\n",
    "                           random_state=1)\n",
    "#https://analyticsindiamag.com/a-beginners-guide-to-scikit-learns-mlpclassifier/\n",
    "#Fitting the training data to the network\n",
    "classifier.fit(X_train, y_train)\n",
    "\n",
    "print(\"Accuracy of MLPClassifier : \", classifier.score(X_test, y_test))"
   ]
  },
  {
   "cell_type": "code",
   "execution_count": 66,
   "metadata": {
    "colab": {
     "base_uri": "https://localhost:8080/",
     "height": 70
    },
    "colab_type": "code",
    "executionInfo": {
     "elapsed": 13373,
     "status": "ok",
     "timestamp": 1583626870849,
     "user": {
      "displayName": "javi morant",
      "photoUrl": "",
      "userId": "18111571290967594212"
     },
     "user_tz": -60
    },
    "id": "B5oBOLaIUCWg",
    "outputId": "d4ffeffc-8935-4bd1-c1b1-0d615b118381"
   },
   "outputs": [
    {
     "name": "stdout",
     "output_type": "stream",
     "text": [
      "Score for each run of the cross validation:  [0.95652174 0.92647059 0.97058824 1.         0.98529412]\n",
      ">> Accuracy: 0.97 (+/- 0.05)\n",
      "Mean accuracy on the test data and labels:  0.9736842105263158\n"
     ]
    }
   ],
   "source": [
    "scores = cross_val_score(classifier, X_train, y_train, cv=5)\n",
    "print(\"Score for each run of the cross validation: \", scores)\n",
    "# The mean score and the 95% confidence interval of the score estimate are hence given by:\n",
    "print(\">> Accuracy: %0.2f (+/- %0.2f)\" % (scores.mean(), scores.std() * 2))\n",
    "score = classifier.score(X_test, y_test)\n",
    "print(\"Mean accuracy on the test data and labels: \", score)"
   ]
  },
  {
   "cell_type": "code",
   "execution_count": 67,
   "metadata": {},
   "outputs": [
    {
     "name": "stdout",
     "output_type": "stream",
     "text": [
      "Jaccard index: 0.93\n",
      "F1-score: 0.97\n"
     ]
    }
   ],
   "source": [
    "yhat = classifier.predict(X_test)\n",
    "print(\"Jaccard index: %.2f\" % jaccard_score(y_test, yhat))\n",
    "print(\"F1-score: %.2f\" % f1_score(y_test, yhat, average='weighted') )"
   ]
  },
  {
   "cell_type": "markdown",
   "metadata": {},
   "source": [
    "### MLP with sgd solver"
   ]
  },
  {
   "cell_type": "code",
   "execution_count": 68,
   "metadata": {
    "colab": {
     "base_uri": "https://localhost:8080/",
     "height": 87
    },
    "colab_type": "code",
    "executionInfo": {
     "elapsed": 28527,
     "status": "ok",
     "timestamp": 1583626886012,
     "user": {
      "displayName": "javi morant",
      "photoUrl": "",
      "userId": "18111571290967594212"
     },
     "user_tz": -60
    },
    "id": "kIv0n7auZhSr",
    "outputId": "0c33f399-4033-4d32-a797-6f791643bc3c"
   },
   "outputs": [
    {
     "name": "stdout",
     "output_type": "stream",
     "text": [
      "Accuracy of MLPClassifier :  0.9298245614035088\n",
      "Score for each run of the cross validation:  [0.95652174 0.94117647 0.94117647 0.95588235 1.        ]\n",
      ">> Accuracy: 0.96 (+/- 0.04)\n",
      "Mean accuracy on the test data and labels:  0.9298245614035088\n"
     ]
    }
   ],
   "source": [
    "classifier = MLPClassifier(max_iter=10000,\n",
    "                           activation = 'relu',\n",
    "                           solver='sgd',\n",
    "                           learning_rate='adaptive',\n",
    "                           random_state=1)\n",
    "classifier.fit(X_train, y_train)\n",
    "print(\"Accuracy of MLPClassifier : \", classifier.score(X_test, y_test))\n",
    "scores = cross_val_score(classifier, X_train, y_train, cv=5)\n",
    "print(\"Score for each run of the cross validation: \", scores)\n",
    "# The mean score and the 95% confidence interval of the score estimate are hence given by:\n",
    "print(\">> Accuracy: %0.2f (+/- %0.2f)\" % (scores.mean(), scores.std() * 2))\n",
    "score = classifier.score(X_test, y_test)\n",
    "print(\"Mean accuracy on the test data and labels: \", score)"
   ]
  },
  {
   "cell_type": "code",
   "execution_count": 69,
   "metadata": {},
   "outputs": [
    {
     "name": "stdout",
     "output_type": "stream",
     "text": [
      "Jaccard index: 0.82\n",
      "F1-score: 0.93\n"
     ]
    }
   ],
   "source": [
    "yhat = classifier.predict(X_test)\n",
    "print(\"Jaccard index: %.2f\" % jaccard_score(y_test, yhat))\n",
    "print(\"F1-score: %.2f\" % f1_score(y_test, yhat, average='weighted') )"
   ]
  },
  {
   "cell_type": "markdown",
   "metadata": {},
   "source": [
    "##  K Nearest Neighbor (KNN)"
   ]
  },
  {
   "cell_type": "code",
   "execution_count": 70,
   "metadata": {},
   "outputs": [
    {
     "name": "stdout",
     "output_type": "stream",
     "text": [
      "Accuracy of MLPClassifier :  0.9649122807017544\n",
      "Score for each run of the cross validation:  [0.97101449 0.94117647 0.95588235 0.97058824 0.95588235]\n",
      ">> Accuracy: 0.96 (+/- 0.02)\n",
      "Mean accuracy on the test data and labels:  0.9649122807017544\n",
      "\n",
      "Jaccard index: 0.91\n",
      "F1-score: 0.96\n"
     ]
    }
   ],
   "source": [
    "from sklearn.neighbors import KNeighborsClassifier\n",
    "k = 3 # number of neighbors\n",
    "\n",
    "classifier = KNeighborsClassifier(n_neighbors=k)\n",
    "classifier.fit(X_train,y_train)\n",
    "print(\"Accuracy of MLPClassifier : \", classifier.score(X_test, y_test))\n",
    "scores = cross_val_score(classifier, X_train, y_train, cv=5)\n",
    "print(\"Score for each run of the cross validation: \", scores)\n",
    "\n",
    "# The mean score and the 95% confidence interval of the score estimate are hence given by:\n",
    "print(\">> Accuracy: %0.2f (+/- %0.2f)\" % (scores.mean(), scores.std() * 2))\n",
    "score = classifier.score(X_test, y_test)\n",
    "print(\"Mean accuracy on the test data and labels: \", score)\n",
    "\n",
    "yhat = classifier.predict(X_test)\n",
    "print(\"\\nJaccard index: %.2f\" % jaccard_score(y_test, yhat))\n",
    "print(\"F1-score: %.2f\" % f1_score(y_test, yhat, average='weighted') )"
   ]
  },
  {
   "cell_type": "markdown",
   "metadata": {},
   "source": [
    "### Finding the best K for KNN"
   ]
  },
  {
   "cell_type": "code",
   "execution_count": 71,
   "metadata": {},
   "outputs": [
    {
     "name": "stdout",
     "output_type": "stream",
     "text": [
      "Mean accuracy on test data reaches the highest value for 3 neighbors\n",
      "Mean accuracy on cv reaches the highest value for 10 neighbors\n",
      "Jaccard index reaches the highest value for 3 neighbors\n",
      "F1-score reaches the highest value for 3 neighbors\n"
     ]
    }
   ],
   "source": [
    "Ks = 10\n",
    "jac = np.zeros(Ks)\n",
    "f1 = np.zeros(Ks)\n",
    "mcv = np.zeros(Ks)\n",
    "mt = np.zeros(Ks)\n",
    "\n",
    "for n in range(Ks):\n",
    "    kNN_model = KNeighborsClassifier(n_neighbors=n+1)\n",
    "    kNN_model.fit(X_train,y_train)\n",
    "    yhat = kNN_model.predict(X_test)\n",
    "    scores = cross_val_score(kNN_model, X_train, y_train, cv=5)\n",
    "    mcv[n] = scores.mean()\n",
    "    score = kNN_model.score(X_test, y_test)\n",
    "    mt[n] = score\n",
    "    jac[n] = jaccard_score(y_test, yhat)\n",
    "    f1[n] = f1_score(y_test, yhat, average='weighted')\n",
    "    \n",
    "print(\"Mean accuracy on test data reaches the highest value for\", int(np.where(mt == max(mt))[0])+1, \"neighbors\")\n",
    "print(\"Mean accuracy on cv reaches the highest value for\", int(np.where(mcv == max(mcv))[0])+1, \"neighbors\")\n",
    "print(\"Jaccard index reaches the highest value for\", int(np.where(jac == max(jac))[0])+1, \"neighbors\")\n",
    "print(\"F1-score reaches the highest value for\", int(np.where(f1 == max(f1))[0])+1, \"neighbors\")"
   ]
  },
  {
   "cell_type": "markdown",
   "metadata": {},
   "source": [
    "## Decision Trees"
   ]
  },
  {
   "cell_type": "code",
   "execution_count": 72,
   "metadata": {},
   "outputs": [
    {
     "name": "stdout",
     "output_type": "stream",
     "text": [
      "Score for each run of the cross validation:  [0.89855072 0.88235294 0.91176471 0.97058824 0.86764706]\n",
      ">> Accuracy: 0.91 (+/- 0.07)\n",
      "Mean accuracy on the test data and labels:  0.9473684210526315\n",
      "\n",
      "Jaccard index: 0.86\n",
      "F1-score: 0.95\n"
     ]
    }
   ],
   "source": [
    "from sklearn.tree import DecisionTreeClassifier\n",
    "DT_model = DecisionTreeClassifier(criterion=\"entropy\", max_depth = 4)\n",
    "DT_model.fit(X_train,y_train)\n",
    "\n",
    "scores = cross_val_score(DT_model, X_train, y_train, cv=5)\n",
    "print(\"Score for each run of the cross validation: \", scores)\n",
    "\n",
    "# The mean score and the 95% confidence interval of the score estimate are hence given by:\n",
    "print(\">> Accuracy: %0.2f (+/- %0.2f)\" % (scores.mean(), scores.std() * 2))\n",
    "score = DT_model.score(X_test, y_test)\n",
    "print(\"Mean accuracy on the test data and labels: \", score)\n",
    "\n",
    "yhat = DT_model.predict(X_test)\n",
    "print(\"\\nJaccard index: %.2f\" % jaccard_score(y_test, yhat))\n",
    "print(\"F1-score: %.2f\" % f1_score(y_test, yhat, average='weighted') )"
   ]
  },
  {
   "cell_type": "markdown",
   "metadata": {},
   "source": [
    "## Logistic Regression"
   ]
  },
  {
   "cell_type": "code",
   "execution_count": 73,
   "metadata": {},
   "outputs": [
    {
     "name": "stdout",
     "output_type": "stream",
     "text": [
      "Score for each run of the cross validation:  [0.97101449 0.94117647 0.94117647 0.95588235 0.98529412]\n",
      ">> Accuracy: 0.96 (+/- 0.03)\n",
      "Mean accuracy on the test data and labels:  0.9473684210526315\n",
      "\n",
      "Jaccard index: 0.86\n",
      "F1-score: 0.95\n"
     ]
    }
   ],
   "source": [
    "from sklearn.linear_model import LogisticRegression\n",
    "LR_model = LogisticRegression()\n",
    "LR_model.fit(X_train,y_train)\n",
    "\n",
    "scores = cross_val_score(LR_model, X_train, y_train, cv=5)\n",
    "print(\"Score for each run of the cross validation: \", scores)\n",
    "\n",
    "# The mean score and the 95% confidence interval of the score estimate are hence given by:\n",
    "print(\">> Accuracy: %0.2f (+/- %0.2f)\" % (scores.mean(), scores.std() * 2))\n",
    "score = DT_model.score(X_test, y_test)\n",
    "print(\"Mean accuracy on the test data and labels: \", score)\n",
    "\n",
    "yhat = LR_model.predict(X_test)\n",
    "print(\"\\nJaccard index: %.2f\" % jaccard_score(y_test, yhat))\n",
    "print(\"F1-score: %.2f\" % f1_score(y_test, yhat, average='weighted') )"
   ]
  },
  {
   "cell_type": "markdown",
   "metadata": {},
   "source": [
    "# Algorithms comparison"
   ]
  },
  {
   "cell_type": "markdown",
   "metadata": {},
   "source": [
    "| Algorithm | Mean accuracy on cross-validation | Accuracy on the test data | Jaccard score | F1-score |\n",
    "| -------- | --------------------------- | ----------------------- | ------ | ------ |\n",
    "| SVM linear kernel | 0.97 (+/- 0.04) | 0.96 | 0.90 | 0.96 |\n",
    "| SVM polynomial kernel (2) | 0.98 (+/- 0.04) | 0.97 | 0.93 | 0.97 |\n",
    "| SVM polynomial kernel (3) | 0.98 (+/- 0.04) | 0.97 | 0.93 | 0.97 |\n",
    "| SVM polynomial kernel (4) | 0.97 (+/- 0.05) | 0.96 | 0.88 | 0.96 |\n",
    "| SVM polynomial kernel (5) | 0.95 (+/- 0.03) | 0.96 | 0.89 | 0.96 |\n",
    "| SVM RFB kernel | 0.97 (+/- 0.04) | 0.97 | 0.93 | 0.97 |\n",
    "| SVM sigmoid kernel | 0.32 (+/- 0.11) | 0.29 | 0.01 | 0.29 |\n",
    "| MLP with adam solver | 0.97 (+/- 0.05) | 0.97 | 0.93 | 0.97 |\n",
    "| MLP with sgd solver | 0.96 (+/- 0.04) | 0.93 | 0.82 | 0.93 |\n",
    "| K Nearest Neighbors | 0.96 (+/- 0.02) | 0.96 | 0.91 | 0.96 |\n",
    "| Decision Tree | 0.91 (+/- 0.07) | 0.95 | 0.86 | 0.95 |\n",
    "| Logistic Regression | 0.96 (+/- 0.03) | 0.95 | 0.86 | 0.95 |\n"
   ]
  },
  {
   "cell_type": "markdown",
   "metadata": {},
   "source": [
    "# Features selection"
   ]
  },
  {
   "cell_type": "code",
   "execution_count": 74,
   "metadata": {},
   "outputs": [],
   "source": [
    "from sklearn.feature_selection import SelectKBest, RFECV\n",
    "\n",
    "# Selecting the 27 most relevant features with SelectKBest (based on f_classif score function by default).\n",
    "# It selects features according to the k highest scores\n",
    "features = SelectKBest(k=27).fit(X_train, y_train).get_support()"
   ]
  },
  {
   "cell_type": "code",
   "execution_count": 75,
   "metadata": {},
   "outputs": [
    {
     "name": "stdout",
     "output_type": "stream",
     "text": [
      "Features eliminated by using SelectKBest:\n",
      "-  symmetry_mean\n",
      "-  area_se\n",
      "-  concave points_se\n"
     ]
    }
   ],
   "source": [
    "print(\"Features eliminated by using SelectKBest:\")\n",
    "for (i,j) in zip(br_head, features):\n",
    "    if not j: print(\"- \", i)"
   ]
  },
  {
   "cell_type": "code",
   "execution_count": 80,
   "metadata": {},
   "outputs": [
    {
     "name": "stdout",
     "output_type": "stream",
     "text": [
      "Features eliminated by using RFECV:\n",
      "-  area_mean\n",
      "-  smoothness_mean\n",
      "-  radius_se\n",
      "-  area_se\n",
      "-  compactness_se\n",
      "-  concave points_se\n",
      "-  smoothness_worst\n"
     ]
    }
   ],
   "source": [
    "# Selecting the most relevant features with RFECV (based on SVM with linear kernel)\n",
    "# It ranks features by recursive feature elimination and cross-validated selection of the best number of features.\n",
    "estimator = svm.SVC(kernel=\"linear\")  # Corrected after the presentation. Thanks Giovanni!\n",
    "selector = RFECV(estimator, step=1, cv=5)\n",
    "selector = selector.fit(X_train, y_train)\n",
    "features = selector.support_\n",
    "print(\"Features eliminated by using RFECV:\")\n",
    "for (i,j) in zip(br_head, features):\n",
    "    if not j: print(\"- \", i)"
   ]
  },
  {
   "cell_type": "code",
   "execution_count": 77,
   "metadata": {},
   "outputs": [
    {
     "name": "stdout",
     "output_type": "stream",
     "text": [
      "Features eliminated by using Decision Tree:\n",
      "-  diagnosis\n",
      "-  area_se\n",
      "-  smoothness_se\n",
      "-  symmetry_worst\n"
     ]
    }
   ],
   "source": [
    "# Selecting the most relevant features with Decision Tree\n",
    "estimator = DecisionTreeClassifier(criterion=\"entropy\", max_depth = 4)\n",
    "selector = RFECV(estimator, step=1, cv=5, min_features_to_select=25)\n",
    "selector = selector.fit(X_train, y_train)\n",
    "features = selector.support_\n",
    "print(\"Features eliminated by using Decision Tree:\")\n",
    "for (i,j) in zip(br_head, features):\n",
    "    if not j: print(\"- \", i)"
   ]
  },
  {
   "cell_type": "code",
   "execution_count": null,
   "metadata": {},
   "outputs": [],
   "source": []
  }
 ],
 "metadata": {
  "colab": {
   "name": "breast.ipynb",
   "provenance": []
  },
  "kernelspec": {
   "display_name": "Python 3.7.4",
   "language": "python",
   "name": "python3.7.4"
  },
  "language_info": {
   "codemirror_mode": {
    "name": "ipython",
    "version": 3
   },
   "file_extension": ".py",
   "mimetype": "text/x-python",
   "name": "python",
   "nbconvert_exporter": "python",
   "pygments_lexer": "ipython3",
   "version": "3.7.4"
  }
 },
 "nbformat": 4,
 "nbformat_minor": 1
}
